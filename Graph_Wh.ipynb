{
 "cells": [
  {
   "cell_type": "code",
   "execution_count": 1,
   "metadata": {},
   "outputs": [],
   "source": [
    "import numpy as np\n",
    "import torch"
   ]
  },
  {
   "cell_type": "code",
   "execution_count": 120,
   "metadata": {},
   "outputs": [],
   "source": [
    "x_train =np.load(\"data/X_train_cleaned.npy\")\n",
    "x_test =np.load(\"data/X_test_cleaned.npy\")"
   ]
  },
  {
   "cell_type": "code",
   "execution_count": 3,
   "metadata": {},
   "outputs": [],
   "source": [
    "y_train =np.load(\"data/Y_train.npy\")\n",
    "y_test =np.load(\"data/Y_test.npy\")"
   ]
  },
  {
   "cell_type": "code",
   "execution_count": 121,
   "metadata": {},
   "outputs": [],
   "source": [
    "def get_edge_indices(x):\n",
    "        # Getting all the info for the edges NB: this only needs to be done once->outside loop\n",
    "        ## Edge indices: 2 lists, first is source node indices and second is destination node indices\n",
    "        ## x has shape, (instances, nodes, attributes)\n",
    "        source = np.arange(0,x.shape[1]).repeat(x.shape[1]-1)\n",
    "        d = np.arange(0,x.shape[1])\n",
    "        dest = np.asarray([np.delete(d,i) for i in d]).flatten()\n",
    "        return np.asarray([source,dest])"
   ]
  },
  {
   "cell_type": "code",
   "execution_count": 124,
   "metadata": {},
   "outputs": [
    {
     "data": {
      "text/plain": [
       "array([[ 0,  0,  0, ..., 26, 26, 26],\n",
       "       [ 1,  2,  3, ..., 23, 24, 25]])"
      ]
     },
     "execution_count": 124,
     "metadata": {},
     "output_type": "execute_result"
    }
   ],
   "source": [
    "indices = get_edge_indices(x_test)\n",
    "indices\n"
   ]
  },
  {
   "cell_type": "markdown",
   "metadata": {},
   "source": [
    "### Need to get the info for each oindiceshe nodes from the variables "
   ]
  },
  {
   "cell_type": "code",
   "execution_count": 5,
   "metadata": {},
   "outputs": [
    {
     "name": "stdout",
     "output_type": "stream",
     "text": [
      "CPU times: user 576 ms, sys: 130 ms, total: 706 ms\n",
      "Wall time: 705 ms\n"
     ]
    },
    {
     "data": {
      "text/plain": [
       "(3167060, 17)"
      ]
     },
     "execution_count": 5,
     "metadata": {},
     "output_type": "execute_result"
    }
   ],
   "source": [
    "node_indices = [1,2,9,10,11,12,13,14,15,16,17,18,19,20,21,22,23]\n",
    "%time x_train_ = x_train[:,node_indices] #These are the object-related variables\n",
    "x_train_.shape"
   ]
  },
  {
   "cell_type": "code",
   "execution_count": 104,
   "metadata": {},
   "outputs": [],
   "source": [
    "def populate_nodes(x):\n",
    "    # Getting all the info for the individual nodes\n",
    "    ## Last index is the id of the node-jets have their b-quantile, leptons are 0, met is -1\n",
    "    ### met\n",
    "    met_arr = x[:,met_vars]\n",
    "    met_eta_quant = np.full((x.shape[0],2), [0, -1])\n",
    "    met_arr = np.concatenate((met_arr, met_eta_quant), axis=1) # Appending the eta and quant values to met\n",
    "    ### lepton\n",
    "    lept_arr = x[:,l1_vars]\n",
    "    lep_quant = np.zeros((x.shape[0],1))\n",
    "    lept_arr = np.concatenate((lept_arr, lep_quant), axis=1) # Appending the eta and quant values to met\n",
    "    ### Jets\n",
    "    b1_arr = x[:,b1_vars]\n",
    "    b2_arr = x[:,b2_vars]\n",
    "    j1_arr = x[:,j1_vars]\n",
    "    ### Put them all together\n",
    "    return np.stack((met_arr, lept_arr, b1_arr, b2_arr, j1_arr),axis=1)"
   ]
  },
  {
   "cell_type": "code",
   "execution_count": 105,
   "metadata": {},
   "outputs": [],
   "source": [
    "def populate_edges(x, edge_indices):\n",
    "    sources  = x[:,edge_indices[0],:]# Map a matrix of values by the source indices\n",
    "    sources  = sources[:,:,[0,1,2]]\n",
    "    dests    = x[:,edge_indices[1],:]# Map a matrix of values by the dest indices\n",
    "    dests  = dests[:,:,[0,1,2]]\n",
    "    deltas = sources - dests\n",
    "    return deltas"
   ]
  },
  {
   "cell_type": "markdown",
   "metadata": {
    "tags": []
   },
   "source": [
    "### Need to pick out the variables we'll use for building the edges\n",
    "This will be a function of the angular distance between objets and their pT:\n",
    "$$\\delta_{ij} = |\\phi_i-\\phi_j|,  |\\eta_i-\\eta_j|,  |p_{T_i}-p_{T_j}|$$"
   ]
  },
  {
   "cell_type": "markdown",
   "metadata": {},
   "source": [
    "Think this is the fastest way to do it:\n",
    "\n",
    "Populate matrices containing the $p_T, \\phi, \\eta$ of the source and dests then subtract in one go "
   ]
  },
  {
   "cell_type": "code",
   "execution_count": 109,
   "metadata": {},
   "outputs": [],
   "source": [
    "from torch_geometric.data import Data"
   ]
  },
  {
   "cell_type": "code",
   "execution_count": 49,
   "metadata": {},
   "outputs": [],
   "source": [
    "%time x = torch.tensor(x_arr,dtype=torch.float)\n",
    "edge_index = torch.tensor([source,dest],dtype=torch.long)\n",
    "\n",
    "data = Data(x=x, edge_index=edge_index, edge_attr= y=y_train[0])"
   ]
  },
  {
   "cell_type": "code",
   "execution_count": 110,
   "metadata": {},
   "outputs": [],
   "source": [
    "from torch_geometric.data import InMemoryDataset"
   ]
  },
  {
   "cell_type": "code",
   "execution_count": 143,
   "metadata": {},
   "outputs": [],
   "source": [
    "class wh_dataset(InMemoryDataset):\n",
    "    def __init__(self, root, transform=None, pre_transform=None):\n",
    "        super().__init__(root, transform, pre_transform)\n",
    "        self.data, self.slices = torch.load(self.processed_paths[0])\n",
    "    @property\n",
    "    def raw_file_names(self):\n",
    "        return[\"X_train.npy\", \"Y_train.npy\", \"W_train.npy\"]\n",
    "    @property\n",
    "    def processed_file_names(self):\n",
    "        return [\"data.pt\"]\n",
    "    @property\n",
    "    def processed_dir(self):\n",
    "        return \"data/processed/\"\n",
    "    @property\n",
    "    def processed_paths(self):\n",
    "        return [self.processed_dir+fname for fname in self.processed_file_names]\n",
    "    \n",
    "    #Helper functions for process\n",
    "    def get_variables(self):\n",
    "        import NN_driver as driver #The variable names are stored in the driver config\n",
    "        variables = driver.variables\n",
    "        variables  = [v for v in variables if \"j3\" not in v]\n",
    "        variables  = [v for v in variables if \"j2\" not in v]\n",
    "        return variables\n",
    "    \n",
    "    def get_edge_indices(self, x):\n",
    "        # Getting all the info for the edges NB: this only needs to be done once->outside loop\n",
    "        ## Edge indices: 2 lists, first is source node indices and second is destination node indices\n",
    "        ## x has shape, (instances, nodes, attributes)\n",
    "        source = np.arange(0,x.shape[1]).repeat(x.shape[1]-1)\n",
    "        d = np.arange(0,x.shape[1])\n",
    "        dest = np.asarray([np.delete(d,i) for i in d]).flatten()\n",
    "        return np.asarray([source,dest])\n",
    "    \n",
    "    def populate_nodes(self, x):\n",
    "        print(\"Populating the nodes with attributes\")\n",
    "        # Getting all the info for the individual nodes\n",
    "        ## Last index is the id of the node-jets have their b-quantile, leptons are 0, met is -1\n",
    "        ### met\n",
    "        met_arr = x[:,self.met_vars]\n",
    "        met_eta_quant = np.full((x.shape[0],2), [0, -1])\n",
    "        met_arr = np.concatenate((self.met_arr, met_eta_quant), axis=1) # Appending the eta and quant values to met\n",
    "        ### lepton\n",
    "        lept_arr = x[:,self.l1_vars]\n",
    "        lep_quant = np.zeros((x.shape[0],1))\n",
    "        lept_arr = np.concatenate((self.lept_arr, lep_quant), axis=1) # Appending the eta and quant values to met\n",
    "        ### Jets\n",
    "        b1_arr = x[:,self.b1_vars]\n",
    "        b2_arr = x[:,self.b2_vars]\n",
    "        j1_arr = x[:,self.j1_vars]\n",
    "        ### Put them all together\n",
    "        return np.stack((met_arr, lept_arr, b1_arr, b2_arr, j1_arr),axis=1)\n",
    "    \n",
    "    def populate_edges(self, x, edge_indices):\n",
    "        print(\"Populating the edges with attributes\")\n",
    "        sources  = x[:,edge_indices[0],:]# Map a matrix of values by the source indices\n",
    "        sources  = sources[:,:,[0,1,2]]\n",
    "        dests    = x[:,edge_indices[1],:]# Map a matrix of values by the dest indices\n",
    "        dests  = dests[:,:,[0,1,2]]\n",
    "        deltas = sources - dests\n",
    "        return deltas\n",
    "    \n",
    "    def process(self):\n",
    "        # Sort out the variables we need based on the driver config\n",
    "        variables = get_variables()\n",
    "        self.met_vars = [variables.index('ETMiss'),variables.index('ETMissPhi')]\n",
    "        self.l1_vars = [variables.index('pTl1'),variables.index('phil1'),variables.index('etal1')]\n",
    "        self.b1_vars = [variables.index('pTb1'),variables.index('phib1'),variables.index('etab1'),variables.index('b1_quantile')]\n",
    "        self.b2_vars = [variables.index('pTb2'),variables.index('phib2'),variables.index('etab2'),variables.index('b2_quantile')]\n",
    "        self.j1_vars = [variables.index('pTj1'),variables.index('phij1'),variables.index('etaj1'),variables.index('j1_quantile')]\n",
    "        print(\"Loading input data\")\n",
    "        x = np.load(self.root+\"/\"+self.raw_file_names[0])\n",
    "        y = np.load(self.root+\"/\"+self.raw_file_names[1])\n",
    "        \n",
    "        # Get the variables associated to the objects in the event\n",
    "        #node_indices = [1,2,9,10,11,12,13,14,15,16,17,18,19,20,21,22,23]\n",
    "        x = x[:100,:] # These are the object-related variables\n",
    "        node_attrs = populate_nodes(x) # Convert the objects to node data\n",
    "        # Get the edges and populate them with edge data\n",
    "        edge_indices = get_edge_indices(node_attrs)\n",
    "        edge_attrs = populate_edges(node_attrs, edge_indices)\n",
    "        \n",
    "        node_attrs = torch.tensor(node_attrs, dtype=torch.float)\n",
    "        edge_indices = torch.tensor(edge_indices, dtype=torch.long)\n",
    "        edge_attrs = torch.tensor(edge_attrs, dtype=torch.float)\n",
    "        \n",
    "        data_list = [Data(x=x, edge_index=edge_index, edge_attr=edge_attr, y=y) for x,edge_index,edge_attr,y in zip(node_attrs, edge_indices, edge_attrs, y)]\n",
    "        \n",
    "        \n",
    "        if self.pre_filter is not None:\n",
    "            data_list = [data for data in data_list if self.pre_filter(data)]\n",
    "\n",
    "        if self.pre_transform is not None:\n",
    "            data_list = [self.pre_transform(data) for data in data_list]\n",
    "        data, slices = self.collate(data_list)\n",
    "        torch.save((data,slices), self.processed_paths+\"/\"+self.processed_file_names[0])"
   ]
  },
  {
   "cell_type": "code",
   "execution_count": 144,
   "metadata": {},
   "outputs": [],
   "source": [
    "data = wh_dataset(\"data/\")"
   ]
  },
  {
   "cell_type": "code",
   "execution_count": 145,
   "metadata": {},
   "outputs": [
    {
     "data": {
      "text/plain": [
       "wh_dataset(2)"
      ]
     },
     "execution_count": 145,
     "metadata": {},
     "output_type": "execute_result"
    }
   ],
   "source": [
    "data"
   ]
  },
  {
   "cell_type": "code",
   "execution_count": null,
   "metadata": {},
   "outputs": [],
   "source": []
  }
 ],
 "metadata": {
  "kernelspec": {
   "display_name": "Python 3",
   "language": "python",
   "name": "python3"
  },
  "language_info": {
   "codemirror_mode": {
    "name": "ipython",
    "version": 3
   },
   "file_extension": ".py",
   "mimetype": "text/x-python",
   "name": "python",
   "nbconvert_exporter": "python",
   "pygments_lexer": "ipython3",
   "version": "3.9.7"
  }
 },
 "nbformat": 4,
 "nbformat_minor": 4
}
